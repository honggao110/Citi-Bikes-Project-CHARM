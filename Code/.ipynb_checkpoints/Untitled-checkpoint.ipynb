{
 "cells": [
  {
   "cell_type": "code",
   "execution_count": 2,
   "metadata": {
    "collapsed": true
   },
   "outputs": [],
   "source": [
    "import pandas as pd\n",
    "import numpy as np\n",
    "import matplotlib.pyplot as plt\n",
    "import pylab\n",
    "import glob "
   ]
  },
  {
   "cell_type": "code",
   "execution_count": 3,
   "metadata": {
    "collapsed": false
   },
   "outputs": [],
   "source": [
    "### Reading data from files \n",
    "dataDir =r\"C:/Ramya Dhatri/Intro To Data Science/Project/Data/201307-201402-citibike-tripdata/\"\n",
    "files = glob.glob(dataDir + \"*.csv\")\n",
    "data = pd.DataFrame()\n",
    "list_ = []\n",
    "for file_ in files:\n",
    "    tempData = pd.read_csv(file_,index_col=None, header=0)\n",
    "    list_.append(tempData)\n",
    "data = pd.concat(list_)"
   ]
  },
  {
   "cell_type": "code",
   "execution_count": 12,
   "metadata": {
    "collapsed": false
   },
   "outputs": [
    {
     "name": "stdout",
     "output_type": "stream",
     "text": [
      "697\n",
      "start station name\n",
      "Lafayette St & E 8 St    697\n",
      "dtype: int64\n"
     ]
    }
   ],
   "source": [
    "### Cleaning the multiple headers\n",
    "#trip = data[data['tripduration'].astype(str).str.contains('tripduration')]\n",
    "nyuAsEnd = data[data['end station name'].astype(str).str.contains('W 4 St & 7 Ave S')]\n",
    "nyuEndStart = nyuAsEnd.groupby([\"start station name\"]).size()\n",
    "print  max(nyuEndStart)\n",
    "print nyuEndStart[nyuEndStart.values == max(nyuEndStart)]"
   ]
  },
  {
   "cell_type": "code",
   "execution_count": null,
   "metadata": {
    "collapsed": false
   },
   "outputs": [],
   "source": [
    "#nyuEndStart.values\n",
    "#plt.hist(nyuEndStart.keys(), nyuEndStart.values)\n",
    "#plt.show()\n",
    "pylab.figure(1)\n",
    "x = range(len(nyuEndStart))\n",
    "pylab.xticks(x, nyuEndStart.keys())\n",
    "pylab.plot(x,nyuEndStart.values,\"g\")\n",
    "pylab.show()"
   ]
  }
 ],
 "metadata": {
  "kernelspec": {
   "display_name": "Python 2",
   "language": "python",
   "name": "python2"
  },
  "language_info": {
   "codemirror_mode": {
    "name": "ipython",
    "version": 2
   },
   "file_extension": ".py",
   "mimetype": "text/x-python",
   "name": "python",
   "nbconvert_exporter": "python",
   "pygments_lexer": "ipython2",
   "version": "2.7.13"
  }
 },
 "nbformat": 4,
 "nbformat_minor": 0
}
